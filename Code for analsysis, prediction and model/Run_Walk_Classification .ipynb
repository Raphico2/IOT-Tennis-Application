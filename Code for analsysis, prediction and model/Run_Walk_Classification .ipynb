{
  "nbformat": 4,
  "nbformat_minor": 0,
  "metadata": {
    "colab": {
      "provenance": []
    },
    "kernelspec": {
      "name": "python3",
      "display_name": "Python 3"
    },
    "language_info": {
      "name": "python"
    }
  },
  "cells": [
    {
      "cell_type": "markdown",
      "source": [
        "#Creation of the model"
      ],
      "metadata": {
        "id": "qIddR-gjtsEY"
      }
    },
    {
      "cell_type": "code",
      "source": [
        "import pandas as pd\n",
        "import os\n",
        "import numpy as np\n",
        "import matplotlib.pyplot as plt\n",
        "import statistics\n"
      ],
      "metadata": {
        "id": "X-78c6Z6Zf-j"
      },
      "execution_count": 54,
      "outputs": []
    },
    {
      "cell_type": "code",
      "execution_count": null,
      "metadata": {
        "id": "TRR3b7VnX3Fr"
      },
      "outputs": [],
      "source": [
        "\n",
        "avg_len=695  #1118\n",
        "\n",
        "def make_even2(df, avg_len):\n",
        "  if(df.shape[0]==avg_len):\n",
        "    return df\n",
        "  if (df.shape[0]>avg_len):\n",
        "    return df.head(avg_len)\n",
        "\n",
        "  extra_df=df.copy()\n",
        "  while (extra_df.shape[0]<avg_len):\n",
        "    extra_df=pd.concat([extra_df, df])\n",
        "  print(extra_df)\n",
        "  return extra_df.head(avg_len)\n",
        "\n",
        "def make_even(df, avg_len):\n",
        "    data_list = []\n",
        "    if(df.shape[0]==avg_len):\n",
        "      return data_list.append(df)\n",
        "    if df.shape[0] > avg_len:\n",
        "        start = 0\n",
        "        end = avg_len\n",
        "        while end <= df.shape[0]:\n",
        "            data_list.append(df[start:end])\n",
        "            start = end\n",
        "            end += avg_len\n",
        "        remaining = df[start:]\n",
        "        if remaining.shape[0] < 0.72 * avg_len:\n",
        "            return data_list\n",
        "        else:\n",
        "            df = remaining\n",
        "\n",
        "    extra_df = df.copy()\n",
        "    while extra_df.shape[0] < avg_len:\n",
        "        extra_df = pd.concat([extra_df, df])\n",
        "    data_list.append(extra_df.head(avg_len))\n",
        "    return data_list\n",
        "\n",
        "\n",
        "def check_run(str):\n",
        "  if (str=='Running'):\n",
        "    return 1\n",
        "  else:\n",
        "    return 0"
      ]
    },
    {
      "cell_type": "code",
      "source": [
        "from google.colab import drive\n",
        "drive.mount('/content/drive')"
      ],
      "metadata": {
        "colab": {
          "base_uri": "https://localhost:8080/"
        },
        "id": "RjFH6NReGg1g",
        "outputId": "277f3aad-ec39-43c5-d650-a3a446c937f1"
      },
      "execution_count": 4,
      "outputs": [
        {
          "output_type": "stream",
          "name": "stdout",
          "text": [
            "Mounted at /content/drive\n"
          ]
        }
      ]
    },
    {
      "cell_type": "markdown",
      "source": [
        "This function above is used to make all segments have consistent length. We found the Average length of the datasets to be approximately 1118 readings. as Such, we used this as our length."
      ],
      "metadata": {
        "id": "dE8EsQLkYiiX"
      }
    },
    {
      "cell_type": "code",
      "source": [
        "directory = '/content/drive/MyDrive/data/'\n",
        "file_list=[]\n",
        "mean_lenght = []\n",
        "i =0\n",
        "extra_array=pd.DataFrame()\n",
        "for filename in os.listdir(directory):\n",
        "    i+=1\n",
        "    file_list.append(filename)\n",
        "    f = os.path.join(directory, filename)\n",
        "    # checking if it is a file\n",
        "    try:\n",
        "      data = pd.read_csv(f, skiprows = 5)\n",
        "    except:\n",
        "      try:\n",
        "        data.columns = ['Time [sec]'\t,'ACC X'\t,'ACC Y'\t,'ACC Z']\n",
        "      except:\n",
        "        data = pd.read_csv(f, skiprows = 4)\n",
        "    mean_lenght.append(data.shape[0])\n",
        "print(statistics.mean(mean_lenght))\n",
        "print(i)"
      ],
      "metadata": {
        "colab": {
          "base_uri": "https://localhost:8080/"
        },
        "id": "-LILK7Z_pgIr",
        "outputId": "579989f7-fc1a-49b6-8323-bf87511aaabf"
      },
      "execution_count": null,
      "outputs": [
        {
          "output_type": "stream",
          "name": "stdout",
          "text": [
            "695.3188976377953\n",
            "254\n"
          ]
        }
      ]
    },
    {
      "cell_type": "code",
      "source": [
        "min(mean_lenght)"
      ],
      "metadata": {
        "colab": {
          "base_uri": "https://localhost:8080/"
        },
        "id": "bs6nqoU0qxnG",
        "outputId": "3ac0668b-325a-4a57-8312-73e94272d1ff"
      },
      "execution_count": null,
      "outputs": [
        {
          "output_type": "execute_result",
          "data": {
            "text/plain": [
              "91"
            ]
          },
          "metadata": {},
          "execution_count": 31
        }
      ]
    },
    {
      "cell_type": "code",
      "source": [
        "directory = '/content/drive/MyDrive/data/'\n",
        "extra_array=pd.DataFrame()\n",
        "def fix_files(directory):\n",
        "  truth_list=[]\n",
        "  file_list=[]\n",
        "  extra_array=pd.DataFrame()\n",
        "  for filename in os.listdir(directory):\n",
        "      file_list.append(filename)\n",
        "      f = os.path.join(directory, filename)\n",
        "      # checking if it is a file\n",
        "      label = None\n",
        "      try:\n",
        "        data = pd.read_csv(f, skiprows = 5)\n",
        "        x=data['ACC X']**0.5\n",
        "      except:\n",
        "        try:\n",
        "          data.columns = ['Time [sec]'\t,'ACC X'\t,'ACC Y'\t,'ACC Z']\n",
        "        except:\n",
        "          data = pd.read_csv(f, skiprows = 4)\n",
        "      ####activity_Type###\n",
        "      \"\"\"try:\n",
        "          label=check_run(pd.read_csv(f).loc[1][1])\n",
        "          truth_list.append(label)\n",
        "      except:\n",
        "          label=check_run(pd.read_csv(f, skiprows = 1,on_bad_lines='skip').loc[0][1])\n",
        "          truth_list.append(label)\"\"\"\n",
        "      #####\n",
        "\n",
        "      data.columns = ['Time [sec]'\t,'ACC X'\t,'ACC Y'\t,'ACC Z']\n",
        "      ##\n",
        "      data = data.apply(pd.to_numeric, errors='coerce')\n",
        "      # drop rows that contain NaN values\n",
        "      data = data.dropna()\n",
        "      ##\n",
        "      data['peak']=(data['ACC X']**2+data['ACC Y']**2+data['ACC Z']**2)**0.5\n",
        "      list_data=make_even(data, avg_len)\n",
        "      #extra_array=pd.concat([extra_array,pd.Series(list_data.T.loc['peak'].to_list())], axis=1)\n",
        "\n",
        "      for i in range(len(list_data)):\n",
        "          extra_array=pd.concat([extra_array,pd.Series(list_data[i].T.loc['peak'].to_list())], axis=1)\n",
        "          try:\n",
        "              label=check_run(pd.read_csv(f).loc[1][1])\n",
        "              truth_list.append(label)\n",
        "          except:\n",
        "              label=check_run(pd.read_csv(f, skiprows = 1,on_bad_lines='skip').loc[0][1])\n",
        "              truth_list.append(label)\n",
        "\n",
        "  extra_array=extra_array.T.reset_index().drop(['index'],axis=1)\n",
        "\n",
        "  extra_array['truth']=pd.Series(truth_list)\n",
        "  return extra_array, file_list\n",
        "\n",
        "extra_array=fix_files(directory)[0]"
      ],
      "metadata": {
        "id": "A0L8PhKmYh7g"
      },
      "execution_count": null,
      "outputs": []
    },
    {
      "cell_type": "code",
      "source": [
        "extra_array.shape"
      ],
      "metadata": {
        "colab": {
          "base_uri": "https://localhost:8080/"
        },
        "id": "-0vPmQ6wtJNn",
        "outputId": "59dc84f6-d11f-4a85-cbfc-a43112927bfe"
      },
      "execution_count": null,
      "outputs": [
        {
          "output_type": "execute_result",
          "data": {
            "text/plain": [
              "(276, 696)"
            ]
          },
          "metadata": {},
          "execution_count": 154
        }
      ]
    },
    {
      "cell_type": "code",
      "source": [
        "print(extra_array[0])"
      ],
      "metadata": {
        "colab": {
          "base_uri": "https://localhost:8080/"
        },
        "id": "qItH-fFDYok_",
        "outputId": "607a54df-a18c-4610-d41e-83acd63a8df3"
      },
      "execution_count": null,
      "outputs": [
        {
          "output_type": "stream",
          "name": "stdout",
          "text": [
            "0       8.643527\n",
            "1       9.977199\n",
            "2      10.630699\n",
            "3      10.969690\n",
            "4      11.391637\n",
            "         ...    \n",
            "271    10.277219\n",
            "272     9.754824\n",
            "273    10.138096\n",
            "274     8.557944\n",
            "275    10.446248\n",
            "Name: 0, Length: 276, dtype: float64\n"
          ]
        }
      ]
    },
    {
      "cell_type": "markdown",
      "source": [
        "Here we basically create our combined dataset. We turn each file into one row of our completed dataset."
      ],
      "metadata": {
        "id": "M5T9pZW6Y6Fl"
      }
    },
    {
      "cell_type": "code",
      "source": [
        "from sklearn.model_selection import train_test_split\n",
        "\n",
        "X=extra_array.drop(['truth'], axis=1)\n",
        "y=np.ravel(extra_array['truth'])\n",
        "x_train, x_test, y_train, y_test = train_test_split(X, y, test_size=0.2, random_state=42)\n",
        "x_train=x_train.to_numpy()\n",
        "x_test=x_test.to_numpy()\n",
        "\n"
      ],
      "metadata": {
        "id": "W-boQGU_Yd_s"
      },
      "execution_count": null,
      "outputs": []
    },
    {
      "cell_type": "code",
      "source": [
        "from sklearn.experimental import enable_iterative_imputer\n",
        "from sklearn.impute import IterativeImputer\n",
        "from sklearn.preprocessing import StandardScaler\n",
        "from sklearn.metrics import accuracy_score\n",
        "from sklearn.metrics import f1_score\n",
        "from sklearn.linear_model import LogisticRegression\n",
        "from sklearn.metrics import precision_recall_fscore_support\n",
        "from sklearn.ensemble import RandomForestRegressor\n",
        "from sklearn.ensemble import RandomForestClassifier\n",
        "from pickle import dump\n",
        "from pickle import load\n",
        "\n",
        "np.random.seed(14)\n",
        "\n",
        "X_train=x_train\n",
        "X_train_scaled = x_train\n",
        "\n",
        "model=RandomForestClassifier(max_depth=5)\n",
        "model.fit(X_train_scaled, y_train)\n",
        "\n",
        "########### Saving the\n",
        "with open('/content/drive/MyDrive/model.pkl', 'wb') as file:\n",
        "    dump(model, file)\n",
        "#dump(model, open('/content/drive/MyDrive/data/model.pkl', 'wb'))\n",
        "################## loading them\n",
        "#model = load(open('model.pkl', 'rb'))\n",
        "################# loading our model for testing\n",
        "#model = load(open('/content/drive/MyDrive/walk_run_model.pkl', 'rb'))\n",
        "\n",
        "X_test_scaled =x_test\n",
        "yhat = model.predict(X_test_scaled)\n",
        "\n",
        "#######################################################################\n",
        "# evaluate accuracy\n",
        "acc = accuracy_score(y_test, yhat)\n",
        "print('Test Accuracy:', acc)\n",
        "f1=f1_score(y_test, yhat, average='macro')\n",
        "print ('F1 Score:', f1)\n",
        "pref=precision_recall_fscore_support(y_test, yhat, average=None,labels=[0,1])\n",
        "print ('pref:', pref)\n",
        "\n",
        "seed=14\n",
        "###Test Accuracy: 0.9107142857142857\n",
        "###F1 Score: 0.9071310116086236\n",
        "###pref: (array([0.91176471, 0.90909091]), array([0.93939394, 0.86956522]), array([0.92537313, 0.88888889]), array([33, 23]))"
      ],
      "metadata": {
        "colab": {
          "base_uri": "https://localhost:8080/"
        },
        "id": "Wc31naxgZTwg",
        "outputId": "812f47e1-4cb6-4e6b-949a-d556bb3578ac"
      },
      "execution_count": null,
      "outputs": [
        {
          "output_type": "stream",
          "name": "stdout",
          "text": [
            "Test Accuracy: 0.9107142857142857\n",
            "F1 Score: 0.9071310116086236\n",
            "pref: (array([0.91176471, 0.90909091]), array([0.93939394, 0.86956522]), array([0.92537313, 0.88888889]), array([33, 23]))\n"
          ]
        }
      ]
    },
    {
      "cell_type": "code",
      "source": [
        "from sklearn.metrics import confusion_matrix, ConfusionMatrixDisplay\n",
        "ConfusionMatrixDisplay.from_predictions(y_test, yhat)\n",
        "plt.show()\n"
      ],
      "metadata": {
        "colab": {
          "base_uri": "https://localhost:8080/",
          "height": 449
        },
        "id": "TXym2i0ddlHV",
        "outputId": "4dc22851-35ee-4513-8d39-feb10697859f"
      },
      "execution_count": null,
      "outputs": [
        {
          "output_type": "display_data",
          "data": {
            "text/plain": [
              "<Figure size 640x480 with 2 Axes>"
            ],
            "image/png": "[encoded data removed]"
          },
          "metadata": {}
        }
      ]
    },
    {
      "cell_type": "markdown",
      "source": [
        "#Using our ready model"
      ],
      "metadata": {
        "id": "eRtFXuRNt603"
      }
    },
    {
      "cell_type": "code",
      "source": [
        "import numpy as np\n",
        "import pandas as pd\n",
        "from google.colab import drive\n",
        "from sklearn.preprocessing import MinMaxScaler\n",
        "import matplotlib.pyplot as plt\n",
        "import scipy\n",
        "from scipy.signal import find_peaks\n",
        "drive.mount('/content/drive')\n",
        "import pandas as pd\n",
        "from pickle import load\n",
        "import sys\n",
        "from sklearn.linear_model import LogisticRegression\n",
        "from sklearn.ensemble import RandomForestClassifier\n",
        "from sklearn.neighbors import KNeighborsClassifier\n",
        "from sklearn.svm import SVC\n",
        "from sklearn.naive_bayes import GaussianNB\n",
        "from sklearn.neural_network import MLPClassifier\n",
        "from pickle import dump\n",
        "from pickle import load\n",
        "import pandas as pd\n",
        "from google.colab import drive\n",
        "from sklearn.preprocessing import MinMaxScaler\n",
        "import numpy as np\n",
        "import matplotlib.pyplot as plt\n",
        "import scipy\n",
        "from scipy.signal import find_peaks\n",
        "from sklearn.experimental import enable_iterative_imputer\n",
        "from sklearn.impute import IterativeImputer\n",
        "from sklearn.preprocessing import StandardScaler\n",
        "from sklearn.metrics import accuracy_score\n",
        "from sklearn.metrics import f1_score\n",
        "from sklearn.linear_model import LogisticRegression\n",
        "from sklearn.metrics import precision_recall_fscore_support\n",
        "from sklearn.ensemble import RandomForestRegressor\n",
        "from sklearn.ensemble import RandomForestClassifier\n",
        "from pickle import dump\n",
        "from pickle import load\n"
      ],
      "metadata": {
        "id": "S4vkGK9a6DQX"
      },
      "execution_count": 51,
      "outputs": []
    },
    {
      "cell_type": "code",
      "source": [
        "def replace_outliers_with_mean(column):\n",
        "\n",
        "    upper = column.quantile(0.99)\n",
        "    outliers = column[(column > upper)]\n",
        "    column[outliers.index] = column.mean()\n",
        "\n",
        "    return column\n",
        "\n",
        "\n",
        "def normalize(columns_to_normalize, dataframe):\n",
        "\n",
        "  scaler = MinMaxScaler()\n",
        "  dataframe[columns_to_normalize] = scaler.fit_transform(dataframe[columns_to_normalize])\n",
        "  return dataframe\n",
        "\n",
        "\n",
        "def stat_tenis(coups, preds):\n",
        "\n",
        "  peaks, _ = find_peaks(coups['ANorm'].values, distance=34/2, height=0.94)\n",
        "  print(\"lenpozkcedl\",len(peaks))\n",
        "  nb_de_coup = len(peaks)\n",
        "  diff = np.diff(peaks)\n",
        "  echange = [peaks[i]  for i in range(len(diff)) if  diff[i]>34*1.5] #\n",
        "  nb_echange = len(echange)+11\n",
        "  nb_arret = len(echange)\n",
        "  nb_coup_par_echange = []\n",
        "  if len(echange) > 0:\n",
        "    for i in range(len(echange)):\n",
        "      if i == 0:\n",
        "          pks, _ = find_peaks(coups['ANorm'][0:echange[i]], distance=34/2, height=0.94)\n",
        "          nb_coup_par_echange.append(len(pks))\n",
        "      else:\n",
        "          pks, _ = find_peaks(coups['ANorm'][echange[i-1]:echange[i]], distance=34/2, height=0.94)\n",
        "          nb_coup_par_echange.append(len(pks))\n",
        "    print(echange)\n",
        "    if len(peaks) > 6 and echange[-1]!=peaks[-2]:\n",
        "      idx = list(peaks).index(echange[-1])\n",
        "      pks, _ = find_peaks(coups['ANorm'][peaks[idx]:peaks[-1]], distance=34/2, height=0.94)\n",
        "      nb_coup_par_echange.append(len(pks))\n",
        "    if len(nb_coup_par_echange) == 0:\n",
        "        pks, _ = find_peaks(coups['ANorm'], distance=34/2, height=0.94)\n",
        "        nb_coup_par_echange.append(len(pks))\n",
        "  else:\n",
        "    pks, _ = find_peaks(coups['ANorm'], distance=34/2, height=0.94)\n",
        "    nb_coup_par_echange.append(len(pks))\n",
        "\n",
        "  moy_coup_par_echange = np.mean(nb_coup_par_echange)\n",
        "  var_coup_par_echange = np.var(nb_coup_par_echange)\n",
        "  max_coup_par_echange = max(nb_coup_par_echange)\n",
        "  min_coup_par_echange = min(nb_coup_par_echange)\n",
        "\n",
        "  vitesse_basse = []\n",
        "  vitesse_haute = []\n",
        "  vitesse_par_echange = []\n",
        "  v = [0,0]\n",
        "  ech = 1\n",
        "  moy_de_coup = 0\n",
        "  a = 0\n",
        "  print(len(diff))\n",
        "  for i in range(len(diff)):\n",
        "\n",
        "      if diff[i] > 34*1.5:\n",
        "        vitesse_basse.append(3.6*21/(0.045*diff[i-1]))\n",
        "        vitesse_haute.append(3.6*26/(0.045*diff[i-1]))\n",
        "        v[0] = float(v[0]/ech)\n",
        "        v[1] = float(v[1]/ech)\n",
        "        vitesse_par_echange.append(v)\n",
        "        v = [0,0]\n",
        "        ech = 1\n",
        "      else:\n",
        "        vitesse_basse.append(3.6*21/(0.045*diff[i]))\n",
        "        vitesse_haute.append(3.6*26/(0.045*diff[i]))\n",
        "\n",
        "      v[0] += 3.6*21/(0.045*diff[i])\n",
        "      v[1] += 3.6*26/(0.045*diff[i])\n",
        "      ech +=1\n",
        "\n",
        "\n",
        "  moyenne_vitesse_basse = np.mean(vitesse_basse)\n",
        "  moyenne_vitesse_haute = np.mean(vitesse_haute) #qur tous le csv\n",
        "  max_vitesse_basse = np.max(vitesse_basse)\n",
        "  max_vitesse_haute = np.max(vitesse_haute)\n",
        "  moy_vit_h_cd = []\n",
        "  moy_vit_b_cd = []\n",
        "  moy_vit_h_rv = []\n",
        "  moy_vit_B_rv = []\n",
        "  for i in range(len(vitesse_basse)):\n",
        "    if preds[i]==0:\n",
        "      moy_vit_h_cd.append(vitesse_haute[i])\n",
        "      moy_vit_b_cd.append(vitesse_basse[i])\n",
        "    else:\n",
        "      moy_vit_h_rv.append(vitesse_haute[i])\n",
        "      moy_vit_B_rv.append(vitesse_basse[i])\n",
        "\n",
        "  nombre_de_cd = list(preds).count(0)\n",
        "  nombre_de_rv = list(preds).count(1)\n",
        "\n",
        "\n",
        "  return str(nb_de_coup)+','+str(nombre_de_rv)+','+str(nombre_de_cd)+','+str(var_coup_par_echange)+','+str(max_vitesse_basse)+'-'+str(max_vitesse_haute)+','+str(moyenne_vitesse_basse)+'-'+str(moyenne_vitesse_haute)+','+str(max_coup_par_echange)+','+str(moy_coup_par_echange)\n",
        "\n",
        "\n",
        "\n",
        "def replace_outliers_with_mean(column):\n",
        "\n",
        "    upper = column.quantile(0.99)\n",
        "    outliers = column[(column > upper)]\n",
        "    column[outliers.index] = column.mean()\n",
        "\n",
        "    return column\n",
        "\n",
        "def normalize(columns_to_normalize, dataframe):\n",
        "\n",
        "  scaler = MinMaxScaler()\n",
        "  dataframe[columns_to_normalize] = scaler.fit_transform(dataframe[columns_to_normalize])\n",
        "  return dataframe\n",
        "\n",
        "\n",
        "\n",
        "def replace_second_one(column):\n",
        "    indexes = np.nonzero(column.values)[0]\n",
        "    for i in range(1, len(indexes)):\n",
        "        if indexes[i] - indexes[i-1] < 15:\n",
        "            column.at[indexes[i]] = 0\n",
        "    return column\n",
        "\n",
        "\n",
        "def create_df(path):\n",
        "\n",
        "  cd_df = pd.read_csv(path, skiprows=1)\n",
        "  cd_df.reset_index(drop=True, inplace=True)\n",
        "  cd_df = cd_df.apply(pd.to_numeric, errors='coerce')\n",
        "  replace_outliers_with_mean\n",
        "\n",
        "  for col in list(cd_df.columns):\n",
        "      cd_df[col]  = replace_outliers_with_mean(cd_df[col])\n",
        "\n",
        "  cd_df = normalize(list(cd_df.columns),cd_df)\n",
        "  #cd_df = cd_df.fillna(cd_df.mean())\n",
        "  cd_df = cd_df.interpolate()\n",
        "\n",
        "  return cd_df\n",
        "\n",
        "\n",
        "\n",
        "def make_even(df):\n",
        "    avg_len=695\n",
        "    data_list = []\n",
        "    if(df.shape[0]==avg_len):\n",
        "      return data_list.append(df)\n",
        "    if df.shape[0] > avg_len:\n",
        "        start = 0\n",
        "        end = avg_len\n",
        "        while end <= df.shape[0]:\n",
        "            data_list.append(df[start:end])\n",
        "            start = end\n",
        "            end += avg_len\n",
        "        remaining = df[start:]\n",
        "        if remaining.shape[0] < 0.72 * avg_len:\n",
        "            return data_list\n",
        "        else:\n",
        "            df = remaining\n",
        "\n",
        "    extra_df = df.copy()\n",
        "    while extra_df.shape[0] < avg_len:\n",
        "        extra_df = pd.concat([extra_df, df])\n",
        "    data_list.append(extra_df.head(avg_len))\n",
        "    return data_list\n",
        "\n",
        "\n",
        "def check_run(str):\n",
        "  if (str=='Running'):\n",
        "    return 1\n",
        "  else:\n",
        "    return 0\n",
        "\n",
        "def predict_coupdroit(df):\n",
        "  model = load(open('/content/drive/MyDrive/model_tenis.pkl', 'rb'))\n",
        "\n",
        "  cps = df\n",
        "  peaks, _ = find_peaks(cps['ANorm'].values, distance=34/2, height=0.94)\n",
        "  middle = []\n",
        "  l=[]\n",
        "  data = []\n",
        "  print(peaks)\n",
        "  for j in range(0, len(peaks)):\n",
        "    if peaks[j]-6<1:\n",
        "      continue\n",
        "    l= list(cps['Mx'][peaks[j]-6:peaks[j]].values)\n",
        "    l.extend(list(cps['My'][peaks[j]-6:peaks[j]].values))\n",
        "    l.extend(list(cps['Mz'][peaks[j]-6:peaks[j]].values))\n",
        "    l.extend(list(cps['Gx'][peaks[j]-6:peaks[j]].values))\n",
        "    l.extend(list(cps['Gy'][peaks[j]-6:peaks[j]].values))\n",
        "    l.extend(list(cps['Gz'][peaks[j]-6:peaks[j]].values))\n",
        "    data.append(l)\n",
        "  column_names = [i for i in range(36)]\n",
        "\n",
        "  array = np.stack(data)\n",
        "  df = pd.DataFrame(array,columns=column_names)\n",
        "  df =df.dropna()\n",
        "  preds = model.predict(df)\n",
        "  return preds\n",
        "\n",
        "\n",
        "def predict_running(df):\n",
        "\n",
        "    extra_array=pd.DataFrame()\n",
        "    model = load(open('/content/drive/MyDrive/model_running.pkl', 'rb'))\n",
        "\n",
        "\n",
        "    data = df\n",
        "    #data = pd.read_csv(path_csv, skiprows = 1)\n",
        "\n",
        "    data['peak']= data['ANorm']\n",
        "    list_data=make_even(data)\n",
        "    for i in range(len(list_data)):\n",
        "          extra_array=pd.concat([extra_array,pd.Series(list_data[i].T.loc['peak'].to_list())], axis=1)\n",
        "    extra_array=extra_array.T.reset_index().drop(['index'],axis=1)\n",
        "    X_test=extra_array\n",
        "    yhat = model.predict(X_test)\n",
        "    preds=list(map(str, yhat) )\n",
        "    for indexa, yi in enumerate(yhat):\n",
        "        if yi ==1:\n",
        "            preds[indexa] = 'Running'\n",
        "        else:\n",
        "            preds[indexa] = 'Walking'\n",
        "    return preds[0]\n",
        "\n"
      ],
      "metadata": {
        "id": "LjoMiiQjGVXa"
      },
      "execution_count": 106,
      "outputs": []
    },
    {
      "cell_type": "code",
      "source": [
        "#!/usr/bin/python\n",
        "\n",
        "\n",
        "\n",
        "\n",
        "#predict_running('/content/memory.csv')\n",
        "\n",
        "\n"
      ],
      "metadata": {
        "id": "8BNI043xt9hE"
      },
      "execution_count": 72,
      "outputs": []
    },
    {
      "cell_type": "code",
      "source": [],
      "metadata": {
        "id": "g_HOiTAZ3yxr"
      },
      "execution_count": null,
      "outputs": []
    },
    {
      "cell_type": "code",
      "source": [
        "def main():\n",
        "  path_csv = '/content/memory.csv'\n",
        "  first_row = pd.read_csv(path_csv, nrows=1)\n",
        "  df = create_df(path_csv)\n",
        "  length = len(df['ANorm'])\n",
        "  if list(first_row.columns)[0] == 'run':\n",
        "    prediction = predict_running(df)\n",
        "    distance = 0\n",
        "    nombredepas= 0\n",
        "    vit = 0\n",
        "\n",
        "    if prediction == 'Walking':\n",
        "        \"\"\"min_value = df['ANorm'].min()\n",
        "        max_value = df['ANorm'].max()\n",
        "        df['ANorm'] = (df['ANorm'] - min_value) / (max_value - min_value)\"\"\"\n",
        "\n",
        "        peaks, _ = find_peaks(df['ANorm'].values, distance=6, height=0.6)\n",
        "        nombre_de_pas = len(peaks)\n",
        "        distance = nombre_de_pas *0.8\n",
        "\n",
        "        vitesse = (3.6*distance)/(0.045*length)\n",
        "    else:\n",
        "        peaks, _ = find_peaks(df['ANorm'].values, distance=1, height=0.6)\n",
        "        nombre_de_pas = len(peaks)\n",
        "        distance = nombre_de_pas *1.1\n",
        "    return str(prediction)+','+str(vitesse)+','+str(nombre_de_pas)+',',distance\n",
        "  else:\n",
        "    preds = predict_coupdroit(df)\n",
        "    return stat_tenis(df,preds)\n",
        "\n",
        "\n",
        "\n",
        "main()"
      ],
      "metadata": {
        "colab": {
          "base_uri": "https://localhost:8080/",
          "height": 87
        },
        "id": "HYPnTxY5IZIT",
        "outputId": "50a75a7b-f0a4-4920-d433-c7aafdf9b69a"
      },
      "execution_count": 107,
      "outputs": [
        {
          "output_type": "stream",
          "name": "stdout",
          "text": [
            "[  1  29  51  71  91 108 125 143]\n",
            "lenpozkcedl 8\n",
            "7\n"
          ]
        },
        {
          "output_type": "execute_result",
          "data": {
            "text/plain": [
              "'8,7,0,0.0,98.82352941176471-122.3529411764706,85.04914693149988-105.29894381995223,8,8.0'"
            ],
            "application/vnd.google.colaboratory.intrinsic+json": {
              "type": "string"
            }
          },
          "metadata": {},
          "execution_count": 107
        }
      ]
    },
    {
      "cell_type": "code",
      "source": [
        "df = pd.read_csv('/content/memory.csv', skiprows=1)\n",
        "\n",
        "mean_values = df.mean()\n",
        "mean_values"
      ],
      "metadata": {
        "colab": {
          "base_uri": "https://localhost:8080/"
        },
        "id": "P3sLnlABRH1S",
        "outputId": "47eafc1a-bd18-4ad6-b6be-73d0b18c0713"
      },
      "execution_count": 90,
      "outputs": [
        {
          "output_type": "execute_result",
          "data": {
            "text/plain": [
              "Time     767.019603\n",
              "Ax         0.468382\n",
              "Ay         9.250530\n",
              "Az        -0.331457\n",
              "Gx         1.474834\n",
              "Gy        37.089073\n",
              "Gz         6.269379\n",
              "Mx        16.216933\n",
              "My       -18.368212\n",
              "Mz       -23.061523\n",
              "ANorm      6.705960\n",
              "GNorm      1.072848\n",
              "MNorm     35.167086\n",
              "dtype: float64"
            ]
          },
          "metadata": {},
          "execution_count": 90
        }
      ]
    },
    {
      "cell_type": "code",
      "source": [],
      "metadata": {
        "id": "2-Amh6-N8ekB"
      },
      "execution_count": null,
      "outputs": []
    },
    {
      "cell_type": "markdown",
      "source": [
        "#Using our ready model"
      ],
      "metadata": {
        "id": "JXM6n6PR8gqu"
      }
    },
    {
      "cell_type": "code",
      "source": [
        "import numpy as np\n",
        "import pandas as pd\n",
        "from google.colab import drive\n",
        "from sklearn.preprocessing import MinMaxScaler\n",
        "import matplotlib.pyplot as plt\n",
        "import scipy\n",
        "from scipy.signal import find_peaks\n",
        "drive.mount('/content/drive')\n",
        "import pandas as pd\n",
        "from pickle import load\n",
        "import sys\n",
        "from sklearn.linear_model import LogisticRegression\n",
        "from sklearn.ensemble import RandomForestClassifier\n",
        "from sklearn.neighbors import KNeighborsClassifier\n",
        "from sklearn.svm import SVC\n",
        "from sklearn.naive_bayes import GaussianNB\n",
        "from sklearn.neural_network import MLPClassifier\n",
        "from pickle import dump\n",
        "from pickle import load\n",
        "import pandas as pd\n",
        "from google.colab import drive\n",
        "from sklearn.preprocessing import MinMaxScaler\n",
        "import numpy as np\n",
        "import matplotlib.pyplot as plt\n",
        "import scipy\n",
        "from scipy.signal import find_peaks\n",
        "from sklearn.experimental import enable_iterative_imputer\n",
        "from sklearn.impute import IterativeImputer\n",
        "from sklearn.preprocessing import StandardScaler\n",
        "from sklearn.metrics import accuracy_score\n",
        "from sklearn.metrics import f1_score\n",
        "from sklearn.linear_model import LogisticRegression\n",
        "from sklearn.metrics import precision_recall_fscore_support\n",
        "from sklearn.ensemble import RandomForestRegressor\n",
        "from sklearn.ensemble import RandomForestClassifier\n",
        "from pickle import dump\n",
        "from pickle import load\n"
      ],
      "metadata": {
        "id": "mrh004YI8gqu"
      },
      "execution_count": null,
      "outputs": []
    },
    {
      "cell_type": "code",
      "source": [
        "def replace_outliers_with_mean(column):\n",
        "\n",
        "    upper = column.quantile(0.99)\n",
        "    outliers = column[(column > upper)]\n",
        "    column[outliers.index] = column.mean()\n",
        "\n",
        "    return column\n",
        "\n",
        "\n",
        "def normalize(columns_to_normalize, dataframe):\n",
        "\n",
        "  scaler = MinMaxScaler()\n",
        "  dataframe[columns_to_normalize] = scaler.fit_transform(dataframe[columns_to_normalize])\n",
        "  return dataframe\n",
        "\n",
        "\n",
        "def stat_tenis(coups, preds):\n",
        "\n",
        "  peaks, _ = find_peaks(coups['ANorm'].values, distance=34/2, height=0.94)\n",
        "  print(\"lenpozkcedl\",len(peaks))\n",
        "  nb_de_coup = len(peaks)\n",
        "  diff = np.diff(peaks)\n",
        "  echange = [peaks[i]  for i in range(len(diff)) if  diff[i]>34*1.5] #\n",
        "  nb_echange = len(echange)+11\n",
        "  nb_arret = len(echange)\n",
        "  nb_coup_par_echange = []\n",
        "  if len(echange) > 0:\n",
        "    for i in range(len(echange)):\n",
        "      if i == 0:\n",
        "          pks, _ = find_peaks(coups['ANorm'][0:echange[i]], distance=34/2, height=0.94)\n",
        "          nb_coup_par_echange.append(len(pks))\n",
        "      else:\n",
        "          pks, _ = find_peaks(coups['ANorm'][echange[i-1]:echange[i]], distance=34/2, height=0.94)\n",
        "          nb_coup_par_echange.append(len(pks))\n",
        "    print(echange)\n",
        "    if len(peaks) > 6 and echange[-1]!=peaks[-2]:\n",
        "      idx = list(peaks).index(echange[-1])\n",
        "      pks, _ = find_peaks(coups['ANorm'][peaks[idx]:peaks[-1]], distance=34/2, height=0.94)\n",
        "      nb_coup_par_echange.append(len(pks))\n",
        "    if len(nb_coup_par_echange) == 0:\n",
        "        pks, _ = find_peaks(coups['ANorm'], distance=34/2, height=0.94)\n",
        "        nb_coup_par_echange.append(len(pks))\n",
        "  else:\n",
        "    pks, _ = find_peaks(coups['ANorm'], distance=34/2, height=0.94)\n",
        "    nb_coup_par_echange.append(len(pks))\n",
        "\n",
        "  moy_coup_par_echange = np.mean(nb_coup_par_echange)\n",
        "  var_coup_par_echange = np.var(nb_coup_par_echange)\n",
        "  max_coup_par_echange = max(nb_coup_par_echange)\n",
        "  min_coup_par_echange = min(nb_coup_par_echange)\n",
        "\n",
        "  vitesse_basse = []\n",
        "  vitesse_haute = []\n",
        "  vitesse_par_echange = []\n",
        "  v = [0,0]\n",
        "  ech = 1\n",
        "  moy_de_coup = 0\n",
        "  a = 0\n",
        "  print(len(diff))\n",
        "  for i in range(len(diff)):\n",
        "\n",
        "      if diff[i] > 34*1.5:\n",
        "        vitesse_basse.append(3.6*21/(0.045*diff[i-1]))\n",
        "        vitesse_haute.append(3.6*26/(0.045*diff[i-1]))\n",
        "        v[0] = float(v[0]/ech)\n",
        "        v[1] = float(v[1]/ech)\n",
        "        vitesse_par_echange.append(v)\n",
        "        v = [0,0]\n",
        "        ech = 1\n",
        "      else:\n",
        "        vitesse_basse.append(3.6*21/(0.045*diff[i]))\n",
        "        vitesse_haute.append(3.6*26/(0.045*diff[i]))\n",
        "\n",
        "      v[0] += 3.6*21/(0.045*diff[i])\n",
        "      v[1] += 3.6*26/(0.045*diff[i])\n",
        "      ech +=1\n",
        "\n",
        "\n",
        "  moyenne_vitesse_basse = np.mean(vitesse_basse)\n",
        "  moyenne_vitesse_haute = np.mean(vitesse_haute) #qur tous le csv\n",
        "  max_vitesse_basse = np.max(vitesse_basse)\n",
        "  max_vitesse_haute = np.max(vitesse_haute)\n",
        "  moy_vit_h_cd = []\n",
        "  moy_vit_b_cd = []\n",
        "  moy_vit_h_rv = []\n",
        "  moy_vit_B_rv = []\n",
        "  for i in range(len(vitesse_basse)):\n",
        "    if preds[i]==0:\n",
        "      moy_vit_h_cd.append(vitesse_haute[i])\n",
        "      moy_vit_b_cd.append(vitesse_basse[i])\n",
        "    else:\n",
        "      moy_vit_h_rv.append(vitesse_haute[i])\n",
        "      moy_vit_B_rv.append(vitesse_basse[i])\n",
        "\n",
        "  nombre_de_cd = list(preds).count(0)\n",
        "  nombre_de_rv = list(preds).count(1)\n",
        "\n",
        "\n",
        "  return str(nb_de_coup)+','+str(nombre_de_rv)+','+str(nombre_de_cd)+','+str(var_coup_par_echange)+','+str(max_vitesse_basse)+'-'+str(max_vitesse_haute)+','+str(moyenne_vitesse_basse)+'-'+str(moyenne_vitesse_haute)+','+str(max_coup_par_echange)+','+str(moy_coup_par_echange)\n",
        "\n",
        "\n",
        "\n",
        "def replace_outliers_with_mean(column):\n",
        "\n",
        "    upper = column.quantile(0.99)\n",
        "    outliers = column[(column > upper)]\n",
        "    column[outliers.index] = column.mean()\n",
        "\n",
        "    return column\n",
        "\n",
        "def normalize(columns_to_normalize, dataframe):\n",
        "\n",
        "  scaler = MinMaxScaler()\n",
        "  dataframe[columns_to_normalize] = scaler.fit_transform(dataframe[columns_to_normalize])\n",
        "  return dataframe\n",
        "\n",
        "\n",
        "\n",
        "def replace_second_one(column):\n",
        "    indexes = np.nonzero(column.values)[0]\n",
        "    for i in range(1, len(indexes)):\n",
        "        if indexes[i] - indexes[i-1] < 15:\n",
        "            column.at[indexes[i]] = 0\n",
        "    return column\n",
        "\n",
        "\n",
        "def create_df(path):\n",
        "\n",
        "  cd_df = pd.read_csv(path, skiprows=1)\n",
        "  cd_df.reset_index(drop=True, inplace=True)\n",
        "  cd_df = cd_df.apply(pd.to_numeric, errors='coerce')\n",
        "  replace_outliers_with_mean\n",
        "\n",
        "  for col in list(cd_df.columns):\n",
        "      cd_df[col]  = replace_outliers_with_mean(cd_df[col])\n",
        "\n",
        "  cd_df = normalize(list(cd_df.columns),cd_df)\n",
        "  #cd_df = cd_df.fillna(cd_df.mean())\n",
        "  cd_df = cd_df.interpolate()\n",
        "\n",
        "  return cd_df\n",
        "\n",
        "\n",
        "\n",
        "def make_even(df):\n",
        "    avg_len=695\n",
        "    data_list = []\n",
        "    if(df.shape[0]==avg_len):\n",
        "      return data_list.append(df)\n",
        "    if df.shape[0] > avg_len:\n",
        "        start = 0\n",
        "        end = avg_len\n",
        "        while end <= df.shape[0]:\n",
        "            data_list.append(df[start:end])\n",
        "            start = end\n",
        "            end += avg_len\n",
        "        remaining = df[start:]\n",
        "        if remaining.shape[0] < 0.72 * avg_len:\n",
        "            return data_list\n",
        "        else:\n",
        "            df = remaining\n",
        "\n",
        "    extra_df = df.copy()\n",
        "    while extra_df.shape[0] < avg_len:\n",
        "        extra_df = pd.concat([extra_df, df])\n",
        "    data_list.append(extra_df.head(avg_len))\n",
        "    return data_list\n",
        "\n",
        "\n",
        "def check_run(str):\n",
        "  if (str=='Running'):\n",
        "    return 1\n",
        "  else:\n",
        "    return 0\n",
        "\n",
        "def predict_coupdroit(df):\n",
        "  model = load(open('/content/drive/MyDrive/model_tenis.pkl', 'rb'))\n",
        "\n",
        "  cps = df\n",
        "  peaks, _ = find_peaks(cps['ANorm'].values, distance=34/2, height=0.94)\n",
        "  middle = []\n",
        "  l=[]\n",
        "  data = []\n",
        "  print(peaks)\n",
        "  for j in range(0, len(peaks)):\n",
        "    if peaks[j]-6<1:\n",
        "      continue\n",
        "    l= list(cps['Mx'][peaks[j]-6:peaks[j]].values)\n",
        "    l.extend(list(cps['My'][peaks[j]-6:peaks[j]].values))\n",
        "    l.extend(list(cps['Mz'][peaks[j]-6:peaks[j]].values))\n",
        "    l.extend(list(cps['Gx'][peaks[j]-6:peaks[j]].values))\n",
        "    l.extend(list(cps['Gy'][peaks[j]-6:peaks[j]].values))\n",
        "    l.extend(list(cps['Gz'][peaks[j]-6:peaks[j]].values))\n",
        "    data.append(l)\n",
        "  column_names = [i for i in range(36)]\n",
        "\n",
        "  array = np.stack(data)\n",
        "  df = pd.DataFrame(array,columns=column_names)\n",
        "  df =df.dropna()\n",
        "  preds = model.predict(df)\n",
        "  return preds\n",
        "\n",
        "\n",
        "def predict_running(df):\n",
        "\n",
        "    extra_array=pd.DataFrame()\n",
        "    model = load(open('/content/drive/MyDrive/model_running.pkl', 'rb'))\n",
        "\n",
        "\n",
        "    data = df\n",
        "    #data = pd.read_csv(path_csv, skiprows = 1)\n",
        "\n",
        "    data['peak']= data['ANorm']\n",
        "    list_data=make_even(data)\n",
        "    for i in range(len(list_data)):\n",
        "          extra_array=pd.concat([extra_array,pd.Series(list_data[i].T.loc['peak'].to_list())], axis=1)\n",
        "    extra_array=extra_array.T.reset_index().drop(['index'],axis=1)\n",
        "    X_test=extra_array\n",
        "    yhat = model.predict(X_test)\n",
        "    preds=list(map(str, yhat) )\n",
        "    for indexa, yi in enumerate(yhat):\n",
        "        if yi ==1:\n",
        "            preds[indexa] = 'Running'\n",
        "        else:\n",
        "            preds[indexa] = 'Walking'\n",
        "    return preds[0]\n",
        "\n"
      ],
      "metadata": {
        "id": "6bOANp5k8gqv"
      },
      "execution_count": null,
      "outputs": []
    },
    {
      "cell_type": "code",
      "source": [
        "#!/usr/bin/python\n",
        "\n",
        "\n",
        "\n",
        "\n",
        "#predict_running('/content/memory.csv')\n",
        "\n",
        "\n"
      ],
      "metadata": {
        "id": "7CKCsn-_8gqv"
      },
      "execution_count": null,
      "outputs": []
    },
    {
      "cell_type": "code",
      "source": [],
      "metadata": {
        "id": "o-xf2mq58gqw"
      },
      "execution_count": null,
      "outputs": []
    },
    {
      "cell_type": "code",
      "source": [
        "def main():\n",
        "  path_csv = '/content/memory.csv'\n",
        "  first_row = pd.read_csv(path_csv, nrows=1)\n",
        "  df = create_df(path_csv)\n",
        "  length = len(df['ANorm'])\n",
        "  if list(first_row.columns)[0] == 'run':\n",
        "    prediction = predict_running(df)\n",
        "    distance = 0\n",
        "    nombredepas= 0\n",
        "    vit = 0\n",
        "\n",
        "    if prediction == 'Walking':\n",
        "        \"\"\"min_value = df['ANorm'].min()\n",
        "        max_value = df['ANorm'].max()\n",
        "        df['ANorm'] = (df['ANorm'] - min_value) / (max_value - min_value)\"\"\"\n",
        "\n",
        "        peaks, _ = find_peaks(df['ANorm'].values, distance=6, height=0.6)\n",
        "        nombre_de_pas = len(peaks)\n",
        "        distance = nombre_de_pas *0.8\n",
        "\n",
        "        vitesse = (3.6*distance)/(0.045*length)\n",
        "    else:\n",
        "        peaks, _ = find_peaks(df['ANorm'].values, distance=1, height=0.6)\n",
        "        nombre_de_pas = len(peaks)\n",
        "        distance = nombre_de_pas *1.1\n",
        "    return str(prediction)+','+str(vitesse)+','+str(nombre_de_pas)+',',distance\n",
        "  else:\n",
        "    preds = predict_coupdroit(df)\n",
        "    return stat_tenis(df,preds)\n",
        "\n",
        "\n",
        "\n",
        "main()"
      ],
      "metadata": {
        "colab": {
          "base_uri": "https://localhost:8080/",
          "height": 87
        },
        "outputId": "50a75a7b-f0a4-4920-d433-c7aafdf9b69a",
        "id": "n9tyL4598gqw"
      },
      "execution_count": null,
      "outputs": [
        {
          "output_type": "stream",
          "name": "stdout",
          "text": [
            "[  1  29  51  71  91 108 125 143]\n",
            "lenpozkcedl 8\n",
            "7\n"
          ]
        },
        {
          "output_type": "execute_result",
          "data": {
            "text/plain": [
              "'8,7,0,0.0,98.82352941176471-122.3529411764706,85.04914693149988-105.29894381995223,8,8.0'"
            ],
            "application/vnd.google.colaboratory.intrinsic+json": {
              "type": "string"
            }
          },
          "metadata": {},
          "execution_count": 107
        }
      ]
    },
    {
      "cell_type": "code",
      "source": [
        "df = pd.read_csv('/content/memory.csv', skiprows=1)\n",
        "\n",
        "mean_values = df.mean()\n",
        "mean_values"
      ],
      "metadata": {
        "colab": {
          "base_uri": "https://localhost:8080/"
        },
        "outputId": "47eafc1a-bd18-4ad6-b6be-73d0b18c0713",
        "id": "yxR8GZz78gqw"
      },
      "execution_count": null,
      "outputs": [
        {
          "output_type": "execute_result",
          "data": {
            "text/plain": [
              "Time     767.019603\n",
              "Ax         0.468382\n",
              "Ay         9.250530\n",
              "Az        -0.331457\n",
              "Gx         1.474834\n",
              "Gy        37.089073\n",
              "Gz         6.269379\n",
              "Mx        16.216933\n",
              "My       -18.368212\n",
              "Mz       -23.061523\n",
              "ANorm      6.705960\n",
              "GNorm      1.072848\n",
              "MNorm     35.167086\n",
              "dtype: float64"
            ]
          },
          "metadata": {},
          "execution_count": 90
        }
      ]
    }
  ]
}